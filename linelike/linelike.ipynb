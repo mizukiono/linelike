{
 "cells": [
  {
   "cell_type": "code",
   "execution_count": 42,
   "metadata": {},
   "outputs": [],
   "source": [
    "import math\n",
    "\n",
    "import pandas as pd\n",
    "import numpy as np"
   ]
  },
  {
   "cell_type": "code",
   "execution_count": 32,
   "metadata": {},
   "outputs": [],
   "source": [
    "df = pd.read_csv('./example.csv', header=None)"
   ]
  },
  {
   "cell_type": "code",
   "execution_count": 33,
   "metadata": {},
   "outputs": [
    {
     "data": {
      "text/html": [
       "<div>\n",
       "<style scoped>\n",
       "    .dataframe tbody tr th:only-of-type {\n",
       "        vertical-align: middle;\n",
       "    }\n",
       "\n",
       "    .dataframe tbody tr th {\n",
       "        vertical-align: top;\n",
       "    }\n",
       "\n",
       "    .dataframe thead th {\n",
       "        text-align: right;\n",
       "    }\n",
       "</style>\n",
       "<table border=\"1\" class=\"dataframe\">\n",
       "  <thead>\n",
       "    <tr style=\"text-align: right;\">\n",
       "      <th></th>\n",
       "      <th>0</th>\n",
       "      <th>1</th>\n",
       "    </tr>\n",
       "  </thead>\n",
       "  <tbody>\n",
       "    <tr>\n",
       "      <th>0</th>\n",
       "      <td>1</td>\n",
       "      <td>これは相手から。</td>\n",
       "    </tr>\n",
       "    <tr>\n",
       "      <th>1</th>\n",
       "      <td>0</td>\n",
       "      <td>そして自分から。</td>\n",
       "    </tr>\n",
       "    <tr>\n",
       "      <th>2</th>\n",
       "      <td>1</td>\n",
       "      <td>わーい</td>\n",
       "    </tr>\n",
       "    <tr>\n",
       "      <th>3</th>\n",
       "      <td>0</td>\n",
       "      <td>わーい！！！</td>\n",
       "    </tr>\n",
       "    <tr>\n",
       "      <th>4</th>\n",
       "      <td>1</td>\n",
       "      <td>太字とかやってみようよ</td>\n",
       "    </tr>\n",
       "    <tr>\n",
       "      <th>5</th>\n",
       "      <td>0</td>\n",
       "      <td>余計な手間を増やさないように。たのむ。</td>\n",
       "    </tr>\n",
       "    <tr>\n",
       "      <th>6</th>\n",
       "      <td>1</td>\n",
       "      <td>長文のテストもしておかないといけないですよね。こんな感じでどうでしょう？</td>\n",
       "    </tr>\n",
       "    <tr>\n",
       "      <th>7</th>\n",
       "      <td>0</td>\n",
       "      <td>いいんじゃない？</td>\n",
       "    </tr>\n",
       "  </tbody>\n",
       "</table>\n",
       "</div>"
      ],
      "text/plain": [
       "   0                                     1\n",
       "0  1                              これは相手から。\n",
       "1  0                              そして自分から。\n",
       "2  1                                   わーい\n",
       "3  0                                わーい！！！\n",
       "4  1                           太字とかやってみようよ\n",
       "5  0                   余計な手間を増やさないように。たのむ。\n",
       "6  1  長文のテストもしておかないといけないですよね。こんな感じでどうでしょう？\n",
       "7  0                              いいんじゃない？"
      ]
     },
     "execution_count": 33,
     "metadata": {},
     "output_type": "execute_result"
    }
   ],
   "source": [
    "df"
   ]
  },
  {
   "cell_type": "code",
   "execution_count": 34,
   "metadata": {},
   "outputs": [],
   "source": [
    "# 19文字/行\n",
    "# LINEの吹き出しは13文字\n",
    "# 5文字くらい重なる\n",
    "# →12文字で切ろう（ここは可変が望ましいけど）\n",
    "\n",
    "# 発言/発言者のcsvを作る\n",
    "# 1/0で相手/自分"
   ]
  },
  {
   "cell_type": "code",
   "execution_count": 36,
   "metadata": {},
   "outputs": [],
   "source": [
    "line_len = 19\n",
    "dialog_len = 12"
   ]
  },
  {
   "cell_type": "code",
   "execution_count": 80,
   "metadata": {},
   "outputs": [
    {
     "name": "stdout",
     "output_type": "stream",
     "text": [
      "これは相手から。　　　　　　　　　　　\n",
      "\n",
      "　　　　　　　　　　　そして自分から。\n",
      "\n",
      "わーい　　　　　　　　　　　　　　　　\n",
      "\n",
      "　　　　　　　　　　　　　わーい！！！\n",
      "\n",
      "太字とかやってみようよ　　　　　　　　\n",
      "\n",
      "　　　　　　　余計な手間を増やさないよ\n",
      "　　　　　　　うに。たのむ。　　　　　\n",
      "\n",
      "長文のテストもしておかな　　　　　　　\n",
      "いといけないですよね。こ　　　　　　　\n",
      "んな感じでどうでしょう？　　　　　　　\n",
      "\n",
      "　　　　　　　　　　　いいんじゃない？\n",
      "\n"
     ]
    }
   ],
   "source": [
    "text_output = []\n",
    "\n",
    "for i in range(df.shape[0]):\n",
    "    text = df.iloc[i, 1]\n",
    "    text_list = []\n",
    "    if len(text) >= dialog_len:\n",
    "        lines = math.ceil(len(text)/dialog_len)\n",
    "        for l in range(lines):\n",
    "            l_text = text[l*dialog_len:(l+1)*dialog_len]\n",
    "            text_list.append(l_text)\n",
    "    else:\n",
    "        text_list.append(text)\n",
    "    \n",
    "    # 自分側\n",
    "    if df.iloc[i, 0] == 0:\n",
    "        for t in range(len(text_list)):\n",
    "            text = text_list[t]\n",
    "            if t != 0:\n",
    "                while len(text) <= dialog_len-1:\n",
    "                    text = text + '　'\n",
    "            while len(text) <= line_len-1:\n",
    "                text = '　' + text\n",
    "            text_output.append(text)\n",
    "    \n",
    "    # 相手側\n",
    "    elif df.iloc[i, 0] == 1:\n",
    "        for t in range(len(text_list)):\n",
    "            text = text_list[t]\n",
    "            while len(text) <= line_len-1:\n",
    "                text = text + '　'\n",
    "            text_output.append(text)\n",
    "    else:\n",
    "        print('error')\n",
    "    \n",
    "    text_output.append('')\n",
    "\n",
    "for l in text_output:\n",
    "    print(l)"
   ]
  },
  {
   "cell_type": "code",
   "execution_count": null,
   "metadata": {},
   "outputs": [],
   "source": []
  }
 ],
 "metadata": {
  "kernelspec": {
   "display_name": "Python 3",
   "language": "python",
   "name": "python3"
  },
  "language_info": {
   "codemirror_mode": {
    "name": "ipython",
    "version": 3
   },
   "file_extension": ".py",
   "mimetype": "text/x-python",
   "name": "python",
   "nbconvert_exporter": "python",
   "pygments_lexer": "ipython3",
   "version": "3.6.5"
  }
 },
 "nbformat": 4,
 "nbformat_minor": 2
}
